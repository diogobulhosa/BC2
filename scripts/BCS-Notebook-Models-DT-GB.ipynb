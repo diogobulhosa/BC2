{
 "cells": [
  {
   "cell_type": "code",
   "execution_count": 11,
   "metadata": {},
   "outputs": [],
   "source": [
    "import pandas as pd\n",
    "import numpy as np \n",
    "import matplotlib as plt\n",
    "\n",
    "# models s\n",
    "from sklearn.linear_model import LogisticRegression\n",
    "from sklearn.tree import DecisionTreeClassifier\n",
    "from sklearn.ensemble import GradientBoostingClassifier\n",
    "\n",
    "# model selection\n",
    "from sklearn.model_selection import GridSearchCV\n",
    "\n",
    "#metrics\n",
    "from sklearn.metrics import precision_score, classification_report, confusion_matrix,f1_score\n",
    "from sklearn.model_selection import RepeatedStratifiedKFold\n",
    "\n",
    "#smote \n",
    "from imblearn.over_sampling import SMOTE\n",
    "\n",
    "# data\n",
    "from sklearn.model_selection import train_test_split\n",
    "\n",
    "#ignoring warnings\n",
    "import warnings\n",
    "warnings.filterwarnings('ignore')\n",
    "\n",
    "# Models\n",
    "from sklearn.ensemble import GradientBoostingClassifier"
   ]
  },
  {
   "cell_type": "markdown",
   "metadata": {},
   "source": [
    "# Data Import and Split "
   ]
  },
  {
   "cell_type": "code",
   "execution_count": 67,
   "metadata": {},
   "outputs": [],
   "source": [
    "Train = pd.read_csv(r'../data/Train_year.csv', index_col=0)\n",
    "y_Train = pd.read_csv(r'../data/y_Train_year.csv', index_col= 0)\n",
    "\n",
    "Test = pd.read_csv(r'../data/Test_year.csv', index_col= 0)\n",
    "y_Test = pd.read_csv(r'../data/y_Test_year.csv', index_col= 0)"
   ]
  },
  {
   "cell_type": "code",
   "execution_count": 68,
   "metadata": {},
   "outputs": [
    {
     "data": {
      "text/plain": [
       "Index(['ADR', 'Adults', 'ArrivalDateWeekNumber', 'BookingChanges', 'Children',\n",
       "       'DaysInWaitingList', 'LeadTime', 'PreviousBookingsNotCanceled',\n",
       "       'RequiredCarParkingSpaces', 'PreviousCancellations',\n",
       "       'PreviousCancellationRate', 'StaysInWeekendNights', 'StaysInWeekNights',\n",
       "       'TotalOfSpecialRequests', 'ArrivalDateYear', 'x0_BB', 'x0_SC', 'x1_A',\n",
       "       'x1_B', 'x1_D', 'x1_E', 'x1_F', 'x1_G', 'x2_avg_booker',\n",
       "       'x2_good_booker', 'x2_low_booker', 'x2_no_booker', 'x2_super_booker',\n",
       "       'x3_Autumn', 'x3_Spring', 'x3_Summer', 'x4_Low_Season',\n",
       "       'x5_frequent_foreigners', 'x5_portuguese', 'x5_regular_foreigners'],\n",
       "      dtype='object')"
      ]
     },
     "execution_count": 68,
     "metadata": {},
     "output_type": "execute_result"
    }
   ],
   "source": [
    "Train.columns"
   ]
  },
  {
   "cell_type": "code",
   "execution_count": 70,
   "metadata": {},
   "outputs": [],
   "source": [
    "# from feature selection variables: \n",
    "features = ['ADR', 'LeadTime','StaysInWeekNights', 'TotalOfSpecialRequests',\n",
    "        'BookingChanges', 'PreviousBookingsNotCanceled', 'RequiredCarParkingSpaces', 'PreviousCancellations',\n",
    "        'x0_BB', 'x0_SC', 'x1_A', 'x1_B', 'x1_D',\n",
    "       'x1_E', 'x1_F', 'x1_G', 'x2_avg_booker', 'x2_good_booker',\n",
    "       'x2_low_booker', 'x2_no_booker', 'x2_super_booker', 'x3_Autumn',\n",
    "       'x3_Spring', 'x3_Summer', 'x4_Low_Season']"
   ]
  },
  {
   "cell_type": "markdown",
   "metadata": {},
   "source": [
    "## Functions to Test Models "
   ]
  },
  {
   "cell_type": "code",
   "execution_count": 71,
   "metadata": {},
   "outputs": [],
   "source": [
    "def metrics(X_train, X_val, y_train, pred_train , y_val, pred_val, model):\n",
    "    print('___________________________________________________________________________________________________________')\n",
    "    print('                                                     TRAIN                                                 ')\n",
    "    print('-----------------------------------------------------------------------------------------------------------')\n",
    "    print(classification_report(y_train, pred_train))\n",
    "    print(confusion_matrix(y_train, pred_train))\n",
    "    print(\"Score: \"+ str(model.score(X_train, y_train)))\n",
    "    print(\"F1 Score: \"+ str(f1_score(y_train, pred_train)))\n",
    "\n",
    "    print('___________________________________________________________________________________________________________')\n",
    "    print('                                                VALIDATION                                                 ')\n",
    "    print('-----------------------------------------------------------------------------------------------------------')\n",
    "    print(classification_report(y_val, pred_val))\n",
    "    print(confusion_matrix(y_val, pred_val))\n",
    "    print(\"Score: \"+ str(model.score(X_val, y_val)))\n",
    "    print(\"F1 Score: \"+ str(f1_score(y_val, pred_val)))"
   ]
  },
  {
   "cell_type": "code",
   "execution_count": 72,
   "metadata": {},
   "outputs": [],
   "source": [
    "def avg_score(model, data_to_slice, y_to_slice, columns_to_use, smote = True, rsk_splits = 5, rspk_repeats = 5, feat_sel = False):\n",
    "    # apply kfold\n",
    "    skf = RepeatedStratifiedKFold(n_splits=rsk_splits, n_repeats=rspk_repeats)\n",
    "    # create lists to store the results from the different models \n",
    "    score_train = []\n",
    "    score_test = []\n",
    "    f1_list = []\n",
    "    precision_list = []\n",
    "    tn_avg = 0\n",
    "    fp_avg = 0\n",
    "    fn_avg = 0\n",
    "    tp_avg = 0\n",
    "    count = 0\n",
    "    flag = 0 # feat sel flag to not keep printing \n",
    "\n",
    "    for train_index, test_index in skf.split(data_to_slice[columns_to_use],y_to_slice):\n",
    "        # get the indexes of the observations assigned for each partition\n",
    "        X_train, X_val = data_to_slice[columns_to_use].iloc[train_index], data_to_slice[columns_to_use].iloc[test_index]\n",
    "        y_train, y_val = y_to_slice.iloc[train_index], y_to_slice.iloc[test_index]\n",
    "        \n",
    "        # SMOTE É AQUI \n",
    "        if smote: \n",
    "            smote = SMOTE(random_state = 11)\n",
    "            X_train, y_train = smote.fit_resample(X_train, y_train)\n",
    "\n",
    "\n",
    "        # applies the model \n",
    "        model_fit = model.fit(X_train, y_train)\n",
    "        # predicts training \n",
    "        y_pred_train =  model_fit.predict(X_train)\n",
    "        #predicts validation \n",
    "        y_pred_val = model_fit.predict(X_val)\n",
    "\n",
    "\n",
    "        if feat_sel is True: \n",
    "            if hasattr(model_fit, 'feature_importances_'):\n",
    "                feat_imp = pd.Series(model_fit.feature_importances_, columns_to_use).sort_values(ascending=False)\n",
    "                feat_imp.plot(kind='bar', title='Feature Importances')\n",
    "\n",
    "            elif flag == 0: \n",
    "                flag = 1\n",
    "                print(\"This model has no feat_sel attb\")\n",
    "            else: \n",
    "                continue\n",
    "        # prints metric results         \n",
    "        #metrics(X_train, X_val, y_train, y_pred_train, y_val, y_pred_val, model)\n",
    "\n",
    "\n",
    "\n",
    "        tn, fp, fn, tp = confusion_matrix(y_val, y_pred_val).ravel()\n",
    "        count += 1\n",
    "        tn_avg += tn\n",
    "        fp_avg += fp\n",
    "        fn_avg += fn\n",
    "        tp_avg += tp\n",
    "\n",
    "        \n",
    "        value_train = model.score(X_train, y_train)\n",
    "        # check the mean accuracy for the test\n",
    "        value_test = model.score(X_val,y_val)\n",
    "        f1_score_val = f1_score(y_val, y_pred_val)\n",
    "        prec_score = precision_score(y_val, y_pred_val)\n",
    "        # append the accuracies, the time and the number of iterations in the corresponding list\n",
    "        score_train.append(value_train)\n",
    "        score_test.append(value_test)\n",
    "        f1_list.append(f1_score_val)\n",
    "        precision_list.append(prec_score)\n",
    "        \n",
    "  \n",
    "    avg_train = round(np.mean(score_train),3)\n",
    "    avg_test = round(np.mean(score_test),3)\n",
    "    std_train = round(np.std(score_train),2)\n",
    "    std_test = round(np.std(score_test),2)\n",
    "    avg_f1 = round(np.mean(f1_list),3)\n",
    "    std_f1 = round(np.std(f1_list),2)\n",
    "    avg_precision = round(np.mean(precision_list),3)\n",
    "    std_precision = round(np.std(precision_list),2)\n",
    "\n",
    "    tn_avg = tn_avg / count\n",
    "    fp_avg = fp_avg / count\n",
    "    fn_avg = fn_avg / count\n",
    "    tp_avg = tp_avg / count\n",
    "    #print(confusion_matrix(y_val, y_pred_val))\n",
    "    confmatrix = str(tp_avg)+ ' , ' + str(tn_avg) + ' \\n ' + str(fp_avg) + ' , ' +  str(fn_avg)\n",
    "    return str(avg_train) + '+/-' + str(std_train),\\\n",
    "            str(avg_test) + '+/-' + str(std_test) , str(avg_f1) + '+/-' + str(std_f1), str(avg_precision), confmatrix"
   ]
  },
  {
   "cell_type": "code",
   "execution_count": 79,
   "metadata": {},
   "outputs": [],
   "source": [
    "def Test_models(model, Train, y_Train, Test, y_Test):\n",
    "    model_fit = model.fit(Train, y_Train)\n",
    "    y_pred_test = model_fit.predict(Test)\n",
    "    a = 0\n",
    "    ones = 0\n",
    "    for i,x in enumerate(y_Test.IsCanceled):\n",
    "        #print(i, y_pred_test[i],x)\n",
    "        if y_pred_test[i] == x:\n",
    "            a+=1\n",
    "            if x == 1: \n",
    "                ones+=1\n",
    "            \n",
    "    print(classification_report(y_Test, y_pred_test))\n",
    "    print(confusion_matrix(y_Test, y_pred_test))\n",
    "    print(a)\n",
    "    print(ones)"
   ]
  },
  {
   "cell_type": "markdown",
   "metadata": {},
   "source": [
    "## Decision Tree"
   ]
  },
  {
   "cell_type": "code",
   "execution_count": 63,
   "metadata": {},
   "outputs": [],
   "source": [
    "dt_gini = DecisionTreeClassifier(criterion='gini')\n",
    "dt_entropy = DecisionTreeClassifier(criterion='entropy')"
   ]
  },
  {
   "cell_type": "markdown",
   "metadata": {},
   "source": [
    "### Split Criteria"
   ]
  },
  {
   "cell_type": "code",
   "execution_count": 64,
   "metadata": {},
   "outputs": [
    {
     "data": {
      "text/plain": [
       "('0.994+/-0.0',\n",
       " '0.736+/-0.0',\n",
       " '0.552+/-0.0',\n",
       " '0.521',\n",
       " '2691.0 , 9488.25 \\n 2474.75 , 1897.0')"
      ]
     },
     "execution_count": 64,
     "metadata": {},
     "output_type": "execute_result"
    }
   ],
   "source": [
    "avg_score(dt_gini, Train, y_Train, features,True,2,2)"
   ]
  },
  {
   "cell_type": "code",
   "execution_count": 74,
   "metadata": {},
   "outputs": [
    {
     "data": {
      "text/plain": [
       "('0.994+/-0.0',\n",
       " '0.738+/-0.0',\n",
       " '0.556+/-0.01',\n",
       " '0.524',\n",
       " '2717.5 , 9497.5 \\n 2465.5 , 1870.5')"
      ]
     },
     "execution_count": 74,
     "metadata": {},
     "output_type": "execute_result"
    }
   ],
   "source": [
    "avg_score(dt_entropy, Train, y_Train, features,True,2,2)"
   ]
  },
  {
   "cell_type": "markdown",
   "metadata": {},
   "source": [
    "Entropy looks like the best choice although both criterias are very similar. "
   ]
  },
  {
   "cell_type": "markdown",
   "metadata": {},
   "source": [
    "### GridSearch"
   ]
  },
  {
   "cell_type": "code",
   "execution_count": 83,
   "metadata": {},
   "outputs": [
    {
     "data": {
      "text/plain": [
       "({'max_depth': 9,\n",
       "  'min_impurity_decrease': 0.03,\n",
       "  'min_samples_leaf': 170,\n",
       "  'min_samples_split': 760,\n",
       "  'splitter': 'random'},\n",
       " 0.48486123551289273)"
      ]
     },
     "execution_count": 83,
     "metadata": {},
     "output_type": "execute_result"
    }
   ],
   "source": [
    "# tree params\n",
    "param_grid = {\n",
    "    'splitter': ['best', 'random'],\n",
    "    'max_depth':range(5,16,2),\n",
    "    'min_samples_split':range(700,900,20),\n",
    "    'min_samples_leaf': range(80,200,30),\n",
    "    'min_impurity_decrease' : [0.01,0.03,0.05]\n",
    "}\n",
    "# Instantiate the grid search model\n",
    "grid_search = GridSearchCV(estimator = dt_entropy, param_grid = param_grid, scoring = 'f1')\n",
    "\n",
    "grid_search.fit(Train, y_Train)\n",
    "grid_search.best_params_, grid_search.best_score_"
   ]
  },
  {
   "cell_type": "code",
   "execution_count": 75,
   "metadata": {},
   "outputs": [],
   "source": [
    "dt_model = DecisionTreeClassifier(criterion='entropy', max_depth=9, min_impurity_decrease=0.01, min_samples_leaf=170, min_samples_split=760, splitter='random')"
   ]
  },
  {
   "cell_type": "code",
   "execution_count": 85,
   "metadata": {},
   "outputs": [
    {
     "data": {
      "text/plain": [
       "('0.675+/-0.02',\n",
       " '0.718+/-0.07',\n",
       " '0.529+/-0.02',\n",
       " '0.537',\n",
       " '1042.28 , 3708.24 \\n 1076.96 , 792.92')"
      ]
     },
     "execution_count": 85,
     "metadata": {},
     "output_type": "execute_result"
    }
   ],
   "source": [
    "avg_score(dt_model, Train, y_Train, features,5,5)"
   ]
  },
  {
   "cell_type": "code",
   "execution_count": 80,
   "metadata": {},
   "outputs": [
    {
     "name": "stdout",
     "output_type": "stream",
     "text": [
      "              precision    recall  f1-score   support\n",
      "\n",
      "           0       0.74      0.86      0.79     13183\n",
      "           1       0.60      0.40      0.48      6826\n",
      "\n",
      "    accuracy                           0.71     20009\n",
      "   macro avg       0.67      0.63      0.64     20009\n",
      "weighted avg       0.69      0.71      0.69     20009\n",
      "\n",
      "[[11364  1819]\n",
      " [ 4073  2753]]\n",
      "14117\n",
      "2753\n"
     ]
    }
   ],
   "source": [
    "Test_models(dt_model, Train, y_Train, Test, y_Test)"
   ]
  },
  {
   "cell_type": "markdown",
   "metadata": {},
   "source": [
    "## Gradient Boost "
   ]
  },
  {
   "cell_type": "code",
   "execution_count": 87,
   "metadata": {},
   "outputs": [],
   "source": [
    "gbm0 = GradientBoostingClassifier(random_state=10)"
   ]
  },
  {
   "cell_type": "markdown",
   "metadata": {},
   "source": [
    "#### Small FeatSel for this specific model "
   ]
  },
  {
   "cell_type": "code",
   "execution_count": 88,
   "metadata": {},
   "outputs": [
    {
     "data": {
      "text/plain": [
       "('0.806+/-0.0',\n",
       " '0.794+/-0.01',\n",
       " '0.623+/-0.01',\n",
       " '0.633',\n",
       " '2819.75 , 10324.25 \\n 1638.75 , 1768.25')"
      ]
     },
     "execution_count": 88,
     "metadata": {},
     "output_type": "execute_result"
    },
    {
     "data": {
      "image/png": "[encoded data removed]",
      "text/plain": [
       "<Figure size 432x288 with 1 Axes>"
      ]
     },
     "metadata": {
      "needs_background": "light"
     },
     "output_type": "display_data"
    }
   ],
   "source": [
    "#Choose all predictors except target & IDcols\n",
    "avg_score(gbm0, Train, y_Train, features,True,2,2, True)"
   ]
  },
  {
   "cell_type": "markdown",
   "metadata": {},
   "source": [
    "#### GridSearch Exploring "
   ]
  },
  {
   "cell_type": "code",
   "execution_count": 105,
   "metadata": {},
   "outputs": [],
   "source": [
    "gb_feats = ['TotalOfSpecialRequests', 'x2_super_booker', 'LeadTime',\n",
    "             'PreviousCancellationRate', 'StaysInWeekNights', 'ArrivalDateWeekNumber',\n",
    "             'x3_Spring','RequiredCarParkingSpaces','ADR','BookingChanges']"
   ]
  },
  {
   "cell_type": "code",
   "execution_count": 92,
   "metadata": {},
   "outputs": [
    {
     "data": {
      "text/plain": [
       "({'n_estimators': 90}, 0.1261832683319281)"
      ]
     },
     "execution_count": 92,
     "metadata": {},
     "output_type": "execute_result"
    }
   ],
   "source": [
    "# tree params\n",
    "gbm1 = GradientBoostingClassifier(random_state=10)\n",
    "param_grid = {\n",
    "    'n_estimators':range(50,101,10)}\n",
    "# Instantiate the grid search model\n",
    "grid_search = GridSearchCV(estimator = gbm1, param_grid = param_grid, scoring = 'f1')\n",
    "\n",
    "grid_search.fit(Train, y_Train)\n",
    "grid_search.best_params_, grid_search.best_score_"
   ]
  },
  {
   "cell_type": "code",
   "execution_count": 94,
   "metadata": {},
   "outputs": [
    {
     "data": {
      "text/plain": [
       "({'max_depth': 15, 'min_samples_leaf': 170, 'min_samples_split': 800},\n",
       " 0.09742415110205017)"
      ]
     },
     "execution_count": 94,
     "metadata": {},
     "output_type": "execute_result"
    }
   ],
   "source": [
    "# tree params\n",
    "gbm2 = GradientBoostingClassifier(random_state=10, n_estimators=90,learning_rate=0.1)\n",
    "param_grid = {\n",
    "   'max_depth':range(5,16,2),\n",
    "   'min_samples_split':range(200,1001,200),\n",
    "   'min_samples_leaf': range(80,200,30)}\n",
    "grid_search = GridSearchCV(estimator = gbm1, param_grid = param_grid, scoring = 'f1')\n",
    "\n",
    "grid_search.fit(Train, y_Train)\n",
    "grid_search.best_params_, grid_search.best_score_"
   ]
  },
  {
   "cell_type": "code",
   "execution_count": 98,
   "metadata": {},
   "outputs": [
    {
     "data": {
      "text/plain": [
       "('0.813+/-0.0',\n",
       " '0.798+/-0.01',\n",
       " '0.631+/-0.01',\n",
       " '0.638',\n",
       " '1146.04 , 4134.08 \\n 651.12 , 689.16')"
      ]
     },
     "execution_count": 98,
     "metadata": {},
     "output_type": "execute_result"
    },
    {
     "data": {
      "image/png": "[encoded data removed]",
      "text/plain": [
       "<Figure size 432x288 with 1 Axes>"
      ]
     },
     "metadata": {
      "needs_background": "light"
     },
     "output_type": "display_data"
    }
   ],
   "source": [
    "gbm2 = GradientBoostingClassifier(random_state=10,n_estimators=200)\n",
    "avg_score(gbm1, Train, y_Train, features,5,5,feat_sel=True)"
   ]
  },
  {
   "cell_type": "code",
   "execution_count": 99,
   "metadata": {},
   "outputs": [
    {
     "data": {
      "text/plain": [
       "({'max_depth': 6, 'min_samples_leaf': 140, 'min_samples_split': 1000},\n",
       " 0.10187617131900276)"
      ]
     },
     "execution_count": 99,
     "metadata": {},
     "output_type": "execute_result"
    }
   ],
   "source": [
    "# tree params\n",
    "gbm3 = GradientBoostingClassifier(random_state=10, n_estimators=200,learning_rate=0.1)\n",
    "param_grid = {\n",
    "   'max_depth':range(4,9,2),\n",
    "   'min_samples_split':range(200,1001,200),\n",
    "   'min_samples_leaf': range(80,200,30)}\n",
    "grid_search = GridSearchCV(estimator = gbm1, param_grid = param_grid, scoring = 'f1')\n",
    "\n",
    "grid_search.fit(Train, y_Train)\n",
    "grid_search.best_params_, grid_search.best_score_"
   ]
  },
  {
   "cell_type": "markdown",
   "metadata": {},
   "source": [
    "#### Final Algorithm"
   ]
  },
  {
   "cell_type": "code",
   "execution_count": 56,
   "metadata": {},
   "outputs": [
    {
     "data": {
      "text/plain": [
       "('0.871+/-0.0',\n",
       " '0.828+/-0.0',\n",
       " '0.692+/-0.0',\n",
       " '0.688',\n",
       " '1275.92 , 4206.12 \\n 579.08 , 559.28')"
      ]
     },
     "execution_count": 56,
     "metadata": {},
     "output_type": "execute_result"
    }
   ],
   "source": [
    "gbm3 = GradientBoostingClassifier(random_state=15,n_estimators=200,max_depth=6, min_samples_leaf=130, min_samples_split=2050, learning_rate=0.05)\n",
    "avg_score(gbm3, Train, y_Train, Train.columns,5,5)"
   ]
  },
  {
   "cell_type": "markdown",
   "metadata": {},
   "source": [
    "The gradient boost has very low capabilities of predicting the cancellation aspect. "
   ]
  },
  {
   "cell_type": "code",
   "execution_count": 14,
   "metadata": {},
   "outputs": [
    {
     "name": "stdout",
     "output_type": "stream",
     "text": [
      "              precision    recall  f1-score   support\n",
      "\n",
      "           0       0.77      0.88      0.82     13183\n",
      "           1       0.68      0.51      0.58      6826\n",
      "\n",
      "    accuracy                           0.75     20009\n",
      "   macro avg       0.73      0.69      0.70     20009\n",
      "weighted avg       0.74      0.75      0.74     20009\n",
      "\n",
      "[[11584  1599]\n",
      " [ 3372  3454]]\n",
      "15038\n",
      "3454\n"
     ]
    }
   ],
   "source": [
    "Test_models(gbm3, Train, y_Train, Test, y_Test)"
   ]
  },
  {
   "cell_type": "code",
   "execution_count": 54,
   "metadata": {},
   "outputs": [],
   "source": [
    "gbm4 = GradientBoostingClassifier(random_state=15,n_estimators=200,max_depth=6, min_samples_leaf=130, min_samples_split=2050, learning_rate=0.05)"
   ]
  },
  {
   "cell_type": "code",
   "execution_count": 55,
   "metadata": {},
   "outputs": [
    {
     "name": "stdout",
     "output_type": "stream",
     "text": [
      "              precision    recall  f1-score   support\n",
      "\n",
      "           0       0.77      0.88      0.82     13183\n",
      "           1       0.68      0.51      0.58      6826\n",
      "\n",
      "    accuracy                           0.75     20009\n",
      "   macro avg       0.73      0.69      0.70     20009\n",
      "weighted avg       0.74      0.75      0.74     20009\n",
      "\n",
      "[[11575  1608]\n",
      " [ 3362  3464]]\n",
      "15039\n",
      "3464\n"
     ]
    }
   ],
   "source": [
    "Test_models(gbm4, Train, y_Train, Test, y_Test)"
   ]
  }
 ],
 "metadata": {
  "interpreter": {
   "hash": "7c5bc60f1b709cc28d984b044e46a36e86d71fb0a6f2e3589923fa1d0135e80a"
  },
  "kernelspec": {
   "display_name": "Python 3.8.12 ('ML')",
   "language": "python",
   "name": "python3"
  },
  "language_info": {
   "codemirror_mode": {
    "name": "ipython",
    "version": 3
   },
   "file_extension": ".py",
   "mimetype": "text/x-python",
   "name": "python",
   "nbconvert_exporter": "python",
   "pygments_lexer": "ipython3",
   "version": "3.8.12"
  },
  "orig_nbformat": 4
 },
 "nbformat": 4,
 "nbformat_minor": 2
}

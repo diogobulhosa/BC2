{
 "cells": [
  {
   "cell_type": "code",
   "execution_count": 31,
   "metadata": {},
   "outputs": [],
   "source": [
    "import pandas as pd\n",
    "import numpy as np \n",
    "import matplotlib.pyplot as plt\n",
    "\n",
    "# models \n",
    "from sklearn.linear_model import LogisticRegression\n",
    "\n",
    "#metrics\n",
    "from sklearn.metrics import accuracy_score, classification_report, confusion_matrix,f1_score, recall_score\n",
    "from sklearn.model_selection import RepeatedStratifiedKFold\n",
    "\n",
    "#smote \n",
    "from imblearn.over_sampling import SMOTE\n",
    "\n",
    "# data\n",
    "from sklearn.model_selection import train_test_split\n",
    "\n",
    "#ignoring warnings\n",
    "import warnings\n",
    "warnings.filterwarnings('ignore')\n",
    "\n",
    "#GridSearch\n",
    "from sklearn.model_selection import GridSearchCV\n",
    "\n",
    "#KNN\n",
    "from sklearn.neighbors import KNeighborsClassifier\n",
    "\n",
    "#Neural Networks\n",
    "from sklearn.neural_network import MLPClassifier\n",
    "\n",
    "#Naive Bayes \n",
    "from sklearn.naive_bayes import GaussianNB\n",
    "from sklearn.naive_bayes import MultinomialNB\n",
    "from sklearn.naive_bayes import ComplementNB\n",
    "\n",
    "#Random Forest\n",
    "from sklearn.ensemble import RandomForestClassifier\n",
    "\n",
    "#Stacking\n",
    "from sklearn.ensemble import StackingClassifier\n",
    "from sklearn.model_selection import cross_val_score\n",
    "\n",
    "#Decision Trees\n",
    "from sklearn.tree import DecisionTreeClassifier"
   ]
  },
  {
   "cell_type": "markdown",
   "metadata": {},
   "source": [
    "# Data Import and Split "
   ]
  },
  {
   "cell_type": "code",
   "execution_count": 2,
   "metadata": {},
   "outputs": [],
   "source": [
    "Train = pd.read_csv(r'../data/Train_year.csv', index_col=0)\n",
    "y_Train = pd.read_csv(r'../data/y_Train_year.csv', index_col= 0)\n",
    "\n",
    "Test = pd.read_csv(r'../data/Test_year.csv', index_col= 0)\n",
    "y_Test = pd.read_csv(r'../data/y_Test_year.csv', index_col= 0)"
   ]
  },
  {
   "cell_type": "code",
   "execution_count": 39,
   "metadata": {},
   "outputs": [],
   "source": [
    "features = ['ADR', 'LeadTime','StaysInWeekNights', 'TotalOfSpecialRequests',\n",
    "        'BookingChanges', 'PreviousBookingsNotCanceled', 'RequiredCarParkingSpaces', 'PreviousCancellations',\n",
    "        'x0_BB', 'x0_SC', 'x1_A', 'x1_B', 'x1_D',\n",
    "       'x1_E', 'x1_F', 'x1_G', 'x2_avg_booker', 'x2_good_booker',\n",
    "       'x2_low_booker', 'x2_no_booker', 'x2_super_booker', 'x3_Autumn',\n",
    "       'x3_Spring', 'x3_Summer', 'x4_Low_Season','x5_frequent_foreigners', 'x5_portuguese',\n",
    "        'x5_regular_foreigners']"
   ]
  },
  {
   "cell_type": "markdown",
   "metadata": {},
   "source": [
    "# Functions to Test Models "
   ]
  },
  {
   "cell_type": "code",
   "execution_count": 3,
   "metadata": {},
   "outputs": [],
   "source": [
    "def metrics(X_train, X_val, y_train, pred_train , y_val, pred_val, model):\n",
    "    print('___________________________________________________________________________________________________________')\n",
    "    print('                                                     TRAIN                                                 ')\n",
    "    print('-----------------------------------------------------------------------------------------------------------')\n",
    "    print(classification_report(y_train, pred_train))\n",
    "    print(confusion_matrix(y_train, pred_train))\n",
    "    print(\"Score: \"+ str(model.score(X_train, y_train)))\n",
    "    print(\"F1 Score: \"+ str(f1_score(y_train, pred_train)))\n",
    "    print(\"Recall: \"+ str(recall_score(y_train, pred_train)))\n",
    "    \n",
    "\n",
    "    print('___________________________________________________________________________________________________________')\n",
    "    print('                                                VALIDATION                                                 ')\n",
    "    print('-----------------------------------------------------------------------------------------------------------')\n",
    "    print(classification_report(y_val, pred_val))\n",
    "    print(confusion_matrix(y_val, pred_val))\n",
    "    print(\"Score: \"+ str(model.score(X_val, y_val)))\n",
    "    print(\"F1 Score: \"+ str(f1_score(y_val, pred_val)))\n",
    "    print(\"Recall: \"+ str(recall_score(y_val, pred_val)))"
   ]
  },
  {
   "cell_type": "code",
   "execution_count": 4,
   "metadata": {},
   "outputs": [],
   "source": [
    "def avg_score(model, data_to_slice, y_to_slice, columns_to_use, smote = True):\n",
    "    # apply kfold\n",
    "    skf = RepeatedStratifiedKFold(n_splits=5, n_repeats=5)\n",
    "    # create lists to store the results from the different models \n",
    "    score_train = []\n",
    "    score_test = []\n",
    "    f1_list = []\n",
    "    recall_list =[]\n",
    "    tn_avg = 0\n",
    "    fp_avg = 0\n",
    "    fn_avg = 0\n",
    "    tp_avg = 0\n",
    "    count = 0\n",
    "    for train_index, test_index in skf.split(data_to_slice[columns_to_use],y_to_slice):\n",
    "        # get the indexes of the observations assigned for each partition\n",
    "        X_train, X_val = data_to_slice[columns_to_use].iloc[train_index], data_to_slice[columns_to_use].iloc[test_index]\n",
    "        y_train, y_val = y_to_slice.iloc[train_index], y_to_slice.iloc[test_index]\n",
    "        \n",
    "        # SMOTE É AQUI \n",
    "        if smote:\n",
    "             \n",
    "            smote = SMOTE(random_state = 11)\n",
    "            X_train, y_train = smote.fit_resample(X_train, y_train)\n",
    "\n",
    "        # applies the model \n",
    "        model_fit = model.fit(X_train, y_train)\n",
    "        # predicts training \n",
    "        y_pred_train =  model_fit.predict(X_train)\n",
    "        #predicts validation \n",
    "        y_pred_val = model_fit.predict(X_val)\n",
    "        # prints metric results \n",
    "        \n",
    "        #metrics(X_train, X_val, y_train, y_pred_train, y_val, y_pred_val, model)\n",
    "        tn, fp, fn, tp = confusion_matrix(y_val, y_pred_val).ravel()\n",
    "        count += 1\n",
    "        tn_avg += tn\n",
    "        fp_avg += fp\n",
    "        fn_avg += fn\n",
    "        tp_avg += tp\n",
    "\n",
    "        \n",
    "        value_train = model.score(X_train, y_train)\n",
    "        # check the mean accuracy for the test\n",
    "        value_test = model.score(X_val,y_val)\n",
    "        f1_score_val = f1_score(y_val, y_pred_val)\n",
    "        recall_val = recall_score(y_val, y_pred_val)\n",
    "        # append the accuracies, the time and the number of iterations in the corresponding list\n",
    "        score_train.append(value_train)\n",
    "        score_test.append(value_test)\n",
    "        f1_list.append(f1_score_val)\n",
    "        recall_list.append(recall_val)\n",
    "  \n",
    "    avg_train = round(np.mean(score_train),3)\n",
    "    avg_test = round(np.mean(score_test),3)\n",
    "    std_train = round(np.std(score_train),2)\n",
    "    std_test = round(np.std(score_test),2)\n",
    "    avg_f1 = round(np.mean(f1_list),3)\n",
    "    std_f1 = round(np.std(f1_list),2)\n",
    "    avg_recall = round(np.mean(recall_list),3)\n",
    "    std_recall = round(np.std(recall_list),2)\n",
    "\n",
    "    tn_avg = tn_avg / count\n",
    "    fp_avg = fp_avg / count\n",
    "    fn_avg = fn_avg / count\n",
    "    tp_avg = tp_avg / count\n",
    "    #print(confusion_matrix(y_val, y_pred_val))\n",
    "    print(str(tp_avg)+ ' , ' + str(fp_avg) + '\\n' + str(fn_avg) + ' , ' +  str(tn_avg))\n",
    "    return str(avg_train) + '+/-' + str(std_train),\\\n",
    "            str(avg_test) + '+/-' + str(std_test) , str(avg_f1) + '+/-' + str(std_f1), avg_f1,\\\n",
    "                ' Recall: ' + str(avg_recall) + '+/-' + str(std_recall), avg_recall"
   ]
  },
  {
   "cell_type": "markdown",
   "metadata": {},
   "source": [
    "## Logistic Regression"
   ]
  },
  {
   "cell_type": "code",
   "execution_count": 40,
   "metadata": {},
   "outputs": [
    {
     "name": "stdout",
     "output_type": "stream",
     "text": [
      "1392.8 , 1283.64\n",
      "442.4 , 3501.56\n"
     ]
    },
    {
     "data": {
      "text/plain": [
       "('0.75+/-0.0',\n",
       " '0.739+/-0.0',\n",
       " '0.617+/-0.01',\n",
       " 0.617,\n",
       " ' Recall: 0.759+/-0.01',\n",
       " 0.759)"
      ]
     },
     "execution_count": 40,
     "metadata": {},
     "output_type": "execute_result"
    }
   ],
   "source": [
    "LogReg = LogisticRegression(random_state=11)\n",
    "\n",
    "avg_score(LogReg, Train[features], y_Train,Train[features].columns, smote = True)\n"
   ]
  },
  {
   "cell_type": "code",
   "execution_count": 42,
   "metadata": {},
   "outputs": [
    {
     "data": {
      "text/plain": [
       "{'C': 0.5,\n",
       " 'dual': False,\n",
       " 'max_iter': 100,\n",
       " 'multi_class': 'multinomial',\n",
       " 'penalty': 'l2',\n",
       " 'solver': 'newton-cg'}"
      ]
     },
     "execution_count": 42,
     "metadata": {},
     "output_type": "execute_result"
    }
   ],
   "source": [
    "param_grid = {\n",
    "    'penalty': ['l1','l2','elasticnet','none'],\n",
    "    'dual':[True, False],\n",
    "    'C':[0.05, 0.2, 0.5, 1, 2],\n",
    "    'solver': ['newton-cg', 'lbfgs', 'liblinear', 'sag', 'saga'],\n",
    "    'max_iter': [50,100,200,500],\n",
    "    'multi_class': ['auto', 'ovr', 'multinomial'],\n",
    "    \n",
    "}\n",
    "# Instantiate the grid search model\n",
    "grid_search = GridSearchCV(estimator = LogReg, param_grid = param_grid, scoring = 'f1')\n",
    "\n",
    "grid_search.fit(Train, y_Train)\n",
    "grid_search.best_params_"
   ]
  },
  {
   "cell_type": "code",
   "execution_count": 45,
   "metadata": {},
   "outputs": [
    {
     "name": "stdout",
     "output_type": "stream",
     "text": [
      "1394.84 , 1283.84\n",
      "440.36 , 3501.36\n"
     ]
    },
    {
     "data": {
      "text/plain": [
       "('0.75+/-0.0',\n",
       " '0.74+/-0.01',\n",
       " '0.618+/-0.01',\n",
       " 0.618,\n",
       " ' Recall: 0.76+/-0.01',\n",
       " 0.76)"
      ]
     },
     "execution_count": 45,
     "metadata": {},
     "output_type": "execute_result"
    }
   ],
   "source": [
    "LogReg = LogisticRegression(random_state=11,C= 0.5,dual= False,max_iter= 100,\n",
    " multi_class= 'multinomial',penalty= 'l2', solver= 'newton-cg' )\n",
    "\n",
    "avg_score(LogReg, Train[features], y_Train,Train[features].columns, smote = True)\n"
   ]
  },
  {
   "cell_type": "code",
   "execution_count": 28,
   "metadata": {},
   "outputs": [],
   "source": [
    "# applies the model \n",
    "model_fit = LogReg.fit(Train, y_Train)\n",
    "# predicts test \n",
    "y_pred_test =  model_fit.predict(Test)"
   ]
  },
  {
   "cell_type": "code",
   "execution_count": 29,
   "metadata": {},
   "outputs": [
    {
     "name": "stdout",
     "output_type": "stream",
     "text": [
      "20009\n",
      "36\n",
      "20009\n",
      "IsCanceled    6826\n",
      "dtype: int64\n"
     ]
    }
   ],
   "source": [
    "print(len(y_pred_test))\n",
    "print(y_pred_test.sum())\n",
    "\n",
    "print(len(y_Test))\n",
    "print(y_Test.sum())"
   ]
  },
  {
   "cell_type": "code",
   "execution_count": 30,
   "metadata": {},
   "outputs": [
    {
     "data": {
      "text/plain": [
       "13211"
      ]
     },
     "execution_count": 30,
     "metadata": {},
     "output_type": "execute_result"
    }
   ],
   "source": [
    "a = 0\n",
    "for i,x in enumerate(y_Test.IsCanceled):\n",
    "    if y_pred_test[i] == x:\n",
    "        a+=1\n",
    "a"
   ]
  },
  {
   "cell_type": "markdown",
   "metadata": {},
   "source": [
    "## KNN Classifier"
   ]
  },
  {
   "cell_type": "code",
   "execution_count": 18,
   "metadata": {},
   "outputs": [
    {
     "name": "stdout",
     "output_type": "stream",
     "text": [
      "1271.24 , 1249.76\n",
      "563.96 , 3535.44\n"
     ]
    },
    {
     "data": {
      "text/plain": [
       "('0.874+/-0.0',\n",
       " '0.726+/-0.01',\n",
       " '0.584+/-0.01',\n",
       " 0.584,\n",
       " ' Recall: 0.693+/-0.01',\n",
       " 0.693)"
      ]
     },
     "execution_count": 18,
     "metadata": {},
     "output_type": "execute_result"
    }
   ],
   "source": [
    "modelKNN = KNeighborsClassifier()\n",
    "\n",
    "avg_score(modelKNN, Train, y_Train,Train.columns, smote = True)"
   ]
  },
  {
   "cell_type": "code",
   "execution_count": 43,
   "metadata": {},
   "outputs": [
    {
     "data": {
      "text/plain": [
       "{'algorithm': 'auto', 'leaf_size': 10, 'n_neighbors': 5, 'weights': 'uniform'}"
      ]
     },
     "execution_count": 43,
     "metadata": {},
     "output_type": "execute_result"
    }
   ],
   "source": [
    "param_grid = {\n",
    "    'n_neighbors': [5,10,50,100],\n",
    "    'weights':['uniform', 'distance'],\n",
    "    'algorithm':['auto', 'ball_tree', 'kd_tree', 'brute'],\n",
    "    'leaf_size': [10,30,50]\n",
    "}\n",
    "# Instantiate the grid search model\n",
    "grid_search = GridSearchCV(estimator = modelKNN, param_grid = param_grid, scoring = 'f1')\n",
    "\n",
    "grid_search.fit(Train, y_Train)\n",
    "grid_search.best_params_"
   ]
  },
  {
   "cell_type": "code",
   "execution_count": 46,
   "metadata": {},
   "outputs": [
    {
     "name": "stdout",
     "output_type": "stream",
     "text": [
      "1356.72 , 1113.92\n",
      "478.48 , 3671.28\n"
     ]
    },
    {
     "data": {
      "text/plain": [
       "('0.889+/-0.0',\n",
       " '0.759+/-0.0',\n",
       " '0.63+/-0.01',\n",
       " 0.63,\n",
       " ' Recall: 0.739+/-0.01',\n",
       " 0.739)"
      ]
     },
     "execution_count": 46,
     "metadata": {},
     "output_type": "execute_result"
    }
   ],
   "source": [
    "modelKNN = KNeighborsClassifier(n_neighbors=5, weights='uniform',algorithm='auto',\n",
    "leaf_size= 10)\n",
    "\n",
    "avg_score(modelKNN, Train[features], y_Train,features, smote = True)"
   ]
  },
  {
   "cell_type": "code",
   "execution_count": 47,
   "metadata": {},
   "outputs": [],
   "source": [
    "# applies the model \n",
    "model_fit = modelKNN.fit(Train, y_Train)\n",
    "# predicts test \n",
    "y_pred_test =  model_fit.predict(Test)"
   ]
  },
  {
   "cell_type": "code",
   "execution_count": 26,
   "metadata": {},
   "outputs": [
    {
     "name": "stdout",
     "output_type": "stream",
     "text": [
      "20009\n",
      "4851\n",
      "20009\n",
      "IsCanceled    6826\n",
      "dtype: int64\n"
     ]
    }
   ],
   "source": [
    "print(len(y_pred_test))\n",
    "print(y_pred_test.sum())\n",
    "\n",
    "print(len(y_Test))\n",
    "print(y_Test.sum())"
   ]
  },
  {
   "cell_type": "code",
   "execution_count": 48,
   "metadata": {},
   "outputs": [
    {
     "data": {
      "text/plain": [
       "14089"
      ]
     },
     "execution_count": 48,
     "metadata": {},
     "output_type": "execute_result"
    }
   ],
   "source": [
    "a = 0\n",
    "for i,x in enumerate(y_Test.IsCanceled):\n",
    "    if y_pred_test[i] == x:\n",
    "        a+=1\n",
    "a"
   ]
  },
  {
   "cell_type": "code",
   "execution_count": 5,
   "metadata": {},
   "outputs": [],
   "source": [
    "features_NN = ['ADR', 'Adults', 'ArrivalDateWeekNumber', 'BookingChanges',\n",
    "       'LeadTime',\n",
    "        'StaysInWeekNights',\n",
    "       'PreviousCancellationRate',\n",
    "       'TotalOfSpecialRequests','x2_avg_booker',\n",
    "       'x2_good_booker', 'x2_low_booker', 'x2_no_booker', 'x2_super_booker',\n",
    "       'x4_Low_Season']"
   ]
  },
  {
   "cell_type": "code",
   "execution_count": 6,
   "metadata": {},
   "outputs": [
    {
     "name": "stdout",
     "output_type": "stream",
     "text": [
      "1264.12 , 997.2\n",
      "571.08 , 3788.0\n"
     ]
    },
    {
     "data": {
      "text/plain": [
       "('0.787+/-0.0',\n",
       " '0.763+/-0.01',\n",
       " '0.617+/-0.01',\n",
       " 0.617,\n",
       " ' Recall: 0.689+/-0.02',\n",
       " 0.689)"
      ]
     },
     "execution_count": 6,
     "metadata": {},
     "output_type": "execute_result"
    }
   ],
   "source": [
    "modelNN=MLPClassifier()\n",
    "\n",
    "avg_score(modelNN, Train[features_NN], y_Train,features_NN, smote = True)"
   ]
  },
  {
   "cell_type": "code",
   "execution_count": 7,
   "metadata": {},
   "outputs": [],
   "source": [
    "def Test_models (model, Train, y_Train, Test):\n",
    "    model_fit = model.fit(Train, y_Train)\n",
    "    y_pred_test = model_fit.predict(Test)\n",
    "    a = 0\n",
    "    for i,x in enumerate(y_Test.IsCanceled):\n",
    "        if y_pred_test[i] == x:\n",
    "            a+=1\n",
    "    return(a)"
   ]
  },
  {
   "cell_type": "markdown",
   "metadata": {},
   "source": [
    "# Stacking"
   ]
  },
  {
   "cell_type": "code",
   "execution_count": 22,
   "metadata": {},
   "outputs": [],
   "source": [
    "modelKNN = KNeighborsClassifier(n_neighbors=5, weights='uniform',algorithm='auto',\n",
    "leaf_size= 10)\n",
    "\n",
    "LogReg = LogisticRegression(random_state=11,C= 0.5,dual= False,max_iter= 100,\n",
    " multi_class= 'multinomial',penalty= 'l2', solver= 'newton-cg' )\n",
    "\n",
    "GNB = GaussianNB(var_smoothing= 0.003511191734215131)\n",
    "\n",
    "rf_model = RandomForestClassifier(n_estimators=130, max_depth=15)\n"
   ]
  },
  {
   "cell_type": "code",
   "execution_count": 36,
   "metadata": {},
   "outputs": [],
   "source": [
    "modelKNN_S = KNeighborsClassifier()\n",
    "\n",
    "LogReg_S = LogisticRegression()\n",
    "\n",
    "GNB_S = GaussianNB()\n",
    "\n",
    "rf_model_S = RandomForestClassifier()\n",
    "\n",
    "Dt_S =  DecisionTreeClassifier()\n",
    "\n",
    "modelNN_S = MLPClassifier()\n",
    "\n"
   ]
  },
  {
   "cell_type": "code",
   "execution_count": 37,
   "metadata": {},
   "outputs": [],
   "source": [
    "estimators = [('LR', LogReg_S), ('RFT', rf_model_S), ('NN', modelNN_S), ('GNB', GNB_S), ('DT', Dt_S)]"
   ]
  },
  {
   "cell_type": "code",
   "execution_count": 24,
   "metadata": {},
   "outputs": [],
   "source": [
    "cv = RepeatedStratifiedKFold(n_splits = 5, n_repeats = 5, random_state = 1)\n",
    "\n",
    "def return_f1score(model, X, y):\n",
    "    n_scores = cross_val_score(model, Train, y_Train, scoring = 'f1', cv = cv)\n",
    "    return n_scores\n",
    "\n",
    "def return_results(models):\n",
    "    results, names = [],[]\n",
    "    for name, model in models.items():\n",
    "        scores = return_f1score(model, Train, y_Train)\n",
    "        print(\"Maximum Score: \"+str(max(scores)))\n",
    "        results.append(scores)\n",
    "        names.append(name)\n",
    "        print('>%s %.3f (%.3f)' % (name, scores.mean(), scores.std()))\n",
    "    \n",
    "    plt.figure(figsize=(15,7))\n",
    "    plt.boxplot(results, labels = names, showmeans = True)\n",
    "    plt.xticks(fontsize=14)\n",
    "    plt.show()"
   ]
  },
  {
   "cell_type": "code",
   "execution_count": 25,
   "metadata": {},
   "outputs": [
    {
     "name": "stdout",
     "output_type": "stream",
     "text": [
      "Maximum Score: 0.3283009211873081\n",
      ">auto 0.039 (0.061)\n",
      "Maximum Score: 0.33244172716851356\n",
      ">predict_proba 0.040 (0.062)\n",
      "Maximum Score: nan\n",
      ">decision_function nan (nan)\n",
      "Maximum Score: 0.16209150326797384\n",
      ">predict 0.038 (0.043)\n"
     ]
    },
    {
     "data": {
      "image/png": "[encoded data removed]",
      "text/plain": [
       "<Figure size 1080x504 with 1 Axes>"
      ]
     },
     "metadata": {
      "needs_background": "light"
     },
     "output_type": "display_data"
    }
   ],
   "source": [
    "def get_models(values):\n",
    "    models = dict()\n",
    "    for value in values:\n",
    "        models[str(value)] = StackingClassifier(estimators = estimators, stack_method= value)      \n",
    "    return models\n",
    "\n",
    "models = get_models(['auto', 'predict_proba', 'decision_function', 'predict'])\n",
    "return_results(models)"
   ]
  },
  {
   "cell_type": "code",
   "execution_count": 26,
   "metadata": {},
   "outputs": [],
   "source": [
    "modelST = StackingClassifier(estimators = estimators, stack_method= 'predict_proba')   "
   ]
  },
  {
   "cell_type": "code",
   "execution_count": 28,
   "metadata": {},
   "outputs": [
    {
     "name": "stdout",
     "output_type": "stream",
     "text": [
      "1083.28 , 433.2\n",
      "751.92 , 4352.0\n"
     ]
    },
    {
     "data": {
      "text/plain": [
       "('0.909+/-0.01',\n",
       " '0.821+/-0.01',\n",
       " '0.646+/-0.01',\n",
       " 0.646,\n",
       " ' Recall: 0.59+/-0.03',\n",
       " 0.59)"
      ]
     },
     "execution_count": 28,
     "metadata": {},
     "output_type": "execute_result"
    }
   ],
   "source": [
    "avg_score(modelST, Train, y_Train,Train.columns, smote = True)"
   ]
  },
  {
   "cell_type": "code",
   "execution_count": 29,
   "metadata": {},
   "outputs": [
    {
     "name": "stdout",
     "output_type": "stream",
     "text": [
      "1093.64 , 427.6\n",
      "741.56 , 4357.6\n"
     ]
    },
    {
     "data": {
      "text/plain": [
       "('0.911+/-0.01',\n",
       " '0.823+/-0.01',\n",
       " '0.651+/-0.01',\n",
       " 0.651,\n",
       " ' Recall: 0.596+/-0.03',\n",
       " 0.596)"
      ]
     },
     "execution_count": 29,
     "metadata": {},
     "output_type": "execute_result"
    }
   ],
   "source": [
    "modelST = StackingClassifier(estimators = estimators)\n",
    "\n",
    "avg_score(modelST, Train, y_Train,Train.columns, smote = True)"
   ]
  },
  {
   "cell_type": "code",
   "execution_count": 38,
   "metadata": {},
   "outputs": [
    {
     "name": "stdout",
     "output_type": "stream",
     "text": [
      "1055.08 , 323.92\n",
      "780.12 , 4461.28\n"
     ]
    },
    {
     "data": {
      "text/plain": [
       "('0.96+/-0.02',\n",
       " '0.833+/-0.01',\n",
       " '0.655+/-0.03',\n",
       " 0.655,\n",
       " ' Recall: 0.575+/-0.06',\n",
       " 0.575)"
      ]
     },
     "execution_count": 38,
     "metadata": {},
     "output_type": "execute_result"
    }
   ],
   "source": [
    "modelST_S = StackingClassifier(estimators = estimators)\n",
    "\n",
    "avg_score(modelST_S, Train, y_Train,Train.columns, smote = True)"
   ]
  },
  {
   "cell_type": "code",
   "execution_count": 30,
   "metadata": {},
   "outputs": [
    {
     "data": {
      "text/plain": [
       "11169"
      ]
     },
     "execution_count": 30,
     "metadata": {},
     "output_type": "execute_result"
    }
   ],
   "source": [
    "# applies the model \n",
    "model_fit = modelST.fit(Train, y_Train)\n",
    "# predicts test \n",
    "y_pred_test =  model_fit.predict(Test)\n",
    "\n",
    "a = 0\n",
    "for i,x in enumerate(y_Test.IsCanceled):\n",
    "    if y_pred_test[i] == x:\n",
    "        a+=1\n",
    "a"
   ]
  },
  {
   "cell_type": "code",
   "execution_count": null,
   "metadata": {},
   "outputs": [],
   "source": []
  }
 ],
 "metadata": {
  "interpreter": {
   "hash": "7c5bc60f1b709cc28d984b044e46a36e86d71fb0a6f2e3589923fa1d0135e80a"
  },
  "kernelspec": {
   "display_name": "Python 3.8.12 ('ML')",
   "language": "python",
   "name": "python3"
  },
  "language_info": {
   "codemirror_mode": {
    "name": "ipython",
    "version": 3
   },
   "file_extension": ".py",
   "mimetype": "text/x-python",
   "name": "python",
   "nbconvert_exporter": "python",
   "pygments_lexer": "ipython3",
   "version": "3.8.2"
  },
  "orig_nbformat": 4
 },
 "nbformat": 4,
 "nbformat_minor": 2
}
